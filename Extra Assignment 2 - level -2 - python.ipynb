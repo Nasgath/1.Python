{
 "cells": [
  {
   "cell_type": "code",
   "execution_count": null,
   "metadata": {},
   "outputs": [],
   "source": [
    "for num in range(0,20):\n",
    "    print(num)"
   ]
  },
  {
   "cell_type": "code",
   "execution_count": null,
   "metadata": {},
   "outputs": [],
   "source": [
    "for num in range(10,20):\n",
    "    print(num,end=\" \")"
   ]
  },
  {
   "cell_type": "code",
   "execution_count": null,
   "metadata": {},
   "outputs": [],
   "source": [
    "list = [67,23,4,45,1,90,78]\n",
    "\n",
    "length = len(list)\n",
    "print(list)\n",
    "print('Number of items in the list2:',length)"
   ]
  },
  {
   "cell_type": "code",
   "execution_count": 1,
   "metadata": {},
   "outputs": [
    {
     "name": "stdout",
     "output_type": "stream",
     "text": [
      "nas\n",
      "n\n",
      "a\n",
      "s\n"
     ]
    }
   ],
   "source": [
    "n = input()\n",
    "for temp in n:\n",
    "    print(temp)"
   ]
  },
  {
   "cell_type": "code",
   "execution_count": 9,
   "metadata": {},
   "outputs": [
    {
     "name": "stdout",
     "output_type": "stream",
     "text": [
      "-Your Name-\n",
      "-Your Age-\n",
      "-Your profession-\n"
     ]
    }
   ],
   "source": [
    "list = ['-Your Name-','-Your Age-','-Your profession-']\n",
    "\n",
    "for temp in list:\n",
    "    \n",
    "        print(temp)\n",
    "       \n"
   ]
  },
  {
   "cell_type": "code",
   "execution_count": 13,
   "metadata": {},
   "outputs": [
    {
     "name": "stdout",
     "output_type": "stream",
     "text": [
      "(1, 'Welcome', 2, 'Hope')\n"
     ]
    }
   ],
   "source": [
    "tup = [1,'Welcome',2,'Hope']\n",
    "print (tuple(tup))"
   ]
  },
  {
   "cell_type": "code",
   "execution_count": 14,
   "metadata": {},
   "outputs": [
    {
     "name": "stdout",
     "output_type": "stream",
     "text": [
      "((0, 1, 2, 3), ('Python', 'Hope'))\n"
     ]
    }
   ],
   "source": [
    "tuple1 = (0,1,2,3)\n",
    "tuple2 = ('Python','Hope')\n",
    "tuple3 = (tuple1,tuple2)\n",
    "print(tuple3)"
   ]
  },
  {
   "cell_type": "code",
   "execution_count": 43,
   "metadata": {},
   "outputs": [
    {
     "name": "stdout",
     "output_type": "stream",
     "text": [
      "(19, 5, 3, 11, 2, 4, 6, 10, 20, 16, 19)\n",
      "19 is odd\n",
      "5 is odd\n",
      "3 is odd\n",
      "11 is odd\n",
      "19 is odd\n"
     ]
    }
   ],
   "source": [
    "n = (19,5,3,11,2,4,6,10,20,16,19)\n",
    "print(n)\n",
    "for temp in n:\n",
    "    if((temp%2)==1):\n",
    "        \n",
    "        \n",
    "        print(temp,'is odd')\n"
   ]
  },
  {
   "cell_type": "code",
   "execution_count": 44,
   "metadata": {},
   "outputs": [
    {
     "name": "stdout",
     "output_type": "stream",
     "text": [
      "(19, 5, 3, 11, 2, 4, 6, 10, 20, 16, 19)\n",
      "2 is even\n",
      "4 is even\n",
      "6 is even\n",
      "10 is even\n",
      "20 is even\n",
      "16 is even\n"
     ]
    }
   ],
   "source": [
    "n = (19,5,3,11,2,4,6,10,20,16,19)\n",
    "print(n)\n",
    "for temp in n:\n",
    "    if((temp%2)==0):\n",
    "        \n",
    "        \n",
    "        print(temp,'is even')"
   ]
  },
  {
   "cell_type": "code",
   "execution_count": null,
   "metadata": {},
   "outputs": [],
   "source": []
  }
 ],
 "metadata": {
  "kernelspec": {
   "display_name": "Python 3",
   "language": "python",
   "name": "python3"
  },
  "language_info": {
   "codemirror_mode": {
    "name": "ipython",
    "version": 3
   },
   "file_extension": ".py",
   "mimetype": "text/x-python",
   "name": "python",
   "nbconvert_exporter": "python",
   "pygments_lexer": "ipython3",
   "version": "3.7.4"
  }
 },
 "nbformat": 4,
 "nbformat_minor": 2
}
