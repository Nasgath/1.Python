{
 "cells": [
  {
   "cell_type": "code",
   "execution_count": null,
   "metadata": {},
   "outputs": [],
   "source": [
    "# Create a class and function, and list out the items in the list\n"
   ]
  },
  {
   "cell_type": "code",
   "execution_count": 6,
   "metadata": {},
   "outputs": [],
   "source": [
    "class SubfieldsInAI():\n",
    "    def Subfields():\n",
    "\n",
    "        lists = ['Machine Learning','Neural Networks','Vision','Robotics','Speech Processing','Natural Language Processing']\n",
    "        print('Sub-fields in AI are: ')\n",
    "        for temp in lists:\n",
    "\n",
    "            print(temp)\n",
    "        \n",
    "    "
   ]
  },
  {
   "cell_type": "code",
   "execution_count": 7,
   "metadata": {},
   "outputs": [
    {
     "name": "stdout",
     "output_type": "stream",
     "text": [
      "Sub-fields in AI are: \n",
      "Machine Learning\n",
      "Neural Networks\n",
      "Vision\n",
      "Robotics\n",
      "Speech Processing\n",
      "Natural Language Processing\n"
     ]
    }
   ],
   "source": [
    "SubfieldsInAI.Subfields()"
   ]
  },
  {
   "cell_type": "code",
   "execution_count": null,
   "metadata": {},
   "outputs": [],
   "source": [
    "# Create a function that checks whether the given number is Odd or Even"
   ]
  },
  {
   "cell_type": "code",
   "execution_count": 9,
   "metadata": {},
   "outputs": [],
   "source": [
    "class OddEven():\n",
    "\n",
    "    def OddEven():\n",
    "\n",
    "        num = int(input('Enter the number :'))\n",
    "\n",
    "        if((num%2)==0):\n",
    "            print(num,'is even number')\n",
    "\n",
    "        else:\n",
    "            print(num,'is odd number')\n"
   ]
  },
  {
   "cell_type": "code",
   "execution_count": 10,
   "metadata": {},
   "outputs": [
    {
     "name": "stdout",
     "output_type": "stream",
     "text": [
      "Enter the number :6\n",
      "6 is even number\n"
     ]
    }
   ],
   "source": [
    "OddEven.OddEven()"
   ]
  },
  {
   "cell_type": "code",
   "execution_count": null,
   "metadata": {},
   "outputs": [],
   "source": [
    "# Create a function that tells elegibility of marriage for male and female according to thei\n",
    "#r age limit like 21 for male and 18 for female"
   ]
  },
  {
   "cell_type": "code",
   "execution_count": 13,
   "metadata": {},
   "outputs": [],
   "source": [
    "class ElegiblityForMarriage(): \n",
    "    def Elegible():\n",
    "        gender = input('Your Gender :') \n",
    "        age = int(input('Your Age : '))\n",
    "\n",
    "        if(gender == 'male','M'):\n",
    "                if(age > 21):\n",
    "                    print('Eligble')\n",
    "                else: \n",
    "                    print('Not a eligible')\n",
    "        elif(gender == 'female','f'):\n",
    "            if(age > 18):\n",
    "                print('Eligble')\n",
    "            else: \n",
    "                print('Not eligible')"
   ]
  },
  {
   "cell_type": "code",
   "execution_count": 14,
   "metadata": {},
   "outputs": [
    {
     "name": "stdout",
     "output_type": "stream",
     "text": [
      "Your Gender :f\n",
      "Your Age : 12\n",
      "Not a eligible\n"
     ]
    }
   ],
   "source": [
    "ElegiblityForMarriage.Elegible()"
   ]
  },
  {
   "cell_type": "code",
   "execution_count": null,
   "metadata": {},
   "outputs": [],
   "source": [
    "# calculate the percentage of your 10th mark"
   ]
  },
  {
   "cell_type": "code",
   "execution_count": 15,
   "metadata": {},
   "outputs": [],
   "source": [
    "class FindPercent():\n",
    "    \n",
    "    def percentage():\n",
    "\n",
    "            sub1 = int(input('Subject1 : '))\n",
    "            sub2 = int(input('Subject2 : '))\n",
    "            sub3 = int(input('Subject3 : '))\n",
    "            sub4 = int(input('Subject4 : '))\n",
    "            sub5 = int(input('Subject5 : '))\n",
    "\n",
    "            total = sub1+sub2+sub3+sub4+sub5\n",
    "            per = total *(100/500)\n",
    "\n",
    "            print('Total: ',total)\n",
    "            print('Percentage :',per)\n"
   ]
  },
  {
   "cell_type": "code",
   "execution_count": 16,
   "metadata": {},
   "outputs": [
    {
     "name": "stdout",
     "output_type": "stream",
     "text": [
      "Subject1 : 6\n",
      "Subject2 : 89\n",
      "Subject3 : 67\n",
      "Subject4 : 56\n",
      "Subject5 : 56\n",
      "Total:  274\n",
      "Percentage : 54.800000000000004\n"
     ]
    }
   ],
   "source": [
    "FindPercent.percentage()"
   ]
  },
  {
   "cell_type": "code",
   "execution_count": null,
   "metadata": {},
   "outputs": [],
   "source": [
    "#print area and perimeter of triangle using class and functions"
   ]
  },
  {
   "cell_type": "code",
   "execution_count": 17,
   "metadata": {},
   "outputs": [],
   "source": [
    "class triangle():\n",
    "    def triangle():\n",
    "\n",
    "        Height = int(input('Height : '))\n",
    "        Breadth = int(input('Breadth : '))\n",
    "\n",
    "        area = (Height*Breadth)/2\n",
    "        print('Area formula: (Height*Breadth)/2')\n",
    "        print('Area of the Triangle : ', area)\n",
    "\n",
    "        Height1 = int(input('Height1 : '))\n",
    "        Height2 = int(input('Height2 : '))\n",
    "        Breadth = int(input('Breadth : '))\n",
    "\n",
    "        peri = Height1+Height2+Breadth\n",
    "        print('Perimeter formula: Height1+Height2+Breadth')\n",
    "        print('Perimeter of Triangle : ', peri)\n",
    "\n"
   ]
  },
  {
   "cell_type": "code",
   "execution_count": 18,
   "metadata": {},
   "outputs": [
    {
     "name": "stdout",
     "output_type": "stream",
     "text": [
      "Height : 45\n",
      "Breadth : 54\n",
      "Area formula: (Height*Breadth)/2\n",
      "Area of the Triangle :  1215.0\n",
      "Height1 : 3\n",
      "Height2 : 4\n",
      "Breadth : 5\n",
      "Perimeter formula: Height1+Height2+Breadth\n",
      "Perimeter of Triangle :  12\n"
     ]
    }
   ],
   "source": [
    "triangle.triangle()"
   ]
  },
  {
   "cell_type": "code",
   "execution_count": null,
   "metadata": {},
   "outputs": [],
   "source": []
  }
 ],
 "metadata": {
  "kernelspec": {
   "display_name": "Python 3",
   "language": "python",
   "name": "python3"
  },
  "language_info": {
   "codemirror_mode": {
    "name": "ipython",
    "version": 3
   },
   "file_extension": ".py",
   "mimetype": "text/x-python",
   "name": "python",
   "nbconvert_exporter": "python",
   "pygments_lexer": "ipython3",
   "version": "3.7.4"
  }
 },
 "nbformat": 4,
 "nbformat_minor": 2
}
