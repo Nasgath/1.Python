{
 "cells": [
  {
   "cell_type": "code",
   "execution_count": 2,
   "metadata": {},
   "outputs": [
    {
     "name": "stdout",
     "output_type": "stream",
     "text": [
      "Welcome to Assignment-1\n"
     ]
    }
   ],
   "source": [
    "print('Welcome to Assignment-1')"
   ]
  },
  {
   "cell_type": "code",
   "execution_count": 3,
   "metadata": {},
   "outputs": [
    {
     "name": "stdout",
     "output_type": "stream",
     "text": [
      "Num1:4\n",
      "Num2:3\n",
      "Add 7\n"
     ]
    }
   ],
   "source": [
    "Number1 = int(input('Num1:'))\n",
    "Number2 = int(input('Num2:'))\n",
    "print('Add',Number1+Number2)\n"
   ]
  },
  {
   "cell_type": "code",
   "execution_count": 7,
   "metadata": {},
   "outputs": [
    {
     "name": "stdout",
     "output_type": "stream",
     "text": [
      "Enter the BMI index:18\n",
      "Normalweight\n"
     ]
    }
   ],
   "source": [
    "weight = int(input('Enter the BMI index:'))\n",
    "\n",
    "if(weight < 18):\n",
    "    print('Underweight')\n",
    "elif (weight < 24):\n",
    "    print('Normalweight')\n",
    "elif(weight < 29):\n",
    "    print('Overweight')\n",
    "else:\n",
    "    print('very overweight')"
   ]
  },
  {
   "cell_type": "code",
   "execution_count": null,
   "metadata": {},
   "outputs": [],
   "source": []
  },
  {
   "cell_type": "code",
   "execution_count": null,
   "metadata": {},
   "outputs": [],
   "source": []
  }
 ],
 "metadata": {
  "kernelspec": {
   "display_name": "Python 3",
   "language": "python",
   "name": "python3"
  }
 },
 "nbformat": 4,
 "nbformat_minor": 2
}
