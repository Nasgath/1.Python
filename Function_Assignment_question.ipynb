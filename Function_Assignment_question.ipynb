{
 "cells": [
  {
   "cell_type": "code",
   "execution_count": null,
   "metadata": {},
   "outputs": [],
   "source": [
    "# Create a class and function, and list out the items in the list\n"
   ]
  },
  {
   "cell_type": "code",
   "execution_count": null,
   "metadata": {},
   "outputs": [],
   "source": [
    "def  SubfieldsInAI_Subfields():\n",
    "\n",
    "    lists = ['Machine Learning','Neural Networks','Vision','Robotics','Speech Processing','Natural Language Processing']\n",
    "    print('Sub-fields in AI are: ')\n",
    "    for temp in lists:\n",
    "\n",
    "        print(temp)\n",
    "        \n",
    "    "
   ]
  },
  {
   "cell_type": "code",
   "execution_count": null,
   "metadata": {},
   "outputs": [],
   "source": [
    "SubfieldsInAI_Subfields()"
   ]
  },
  {
   "cell_type": "code",
   "execution_count": null,
   "metadata": {},
   "outputs": [],
   "source": [
    "# Create a function that checks whether the given number is Odd or Even"
   ]
  },
  {
   "cell_type": "code",
   "execution_count": null,
   "metadata": {},
   "outputs": [],
   "source": [
    "def OddEven_OddEven():\n",
    "\n",
    "    num = int(input('Enter the number :'))\n",
    "\n",
    "    if((num%2)==0):\n",
    "        print(num,'is even number')\n",
    "        \n",
    "    else:\n",
    "        print(num,'is odd number')\n",
    "      "
   ]
  },
  {
   "cell_type": "code",
   "execution_count": null,
   "metadata": {},
   "outputs": [],
   "source": [
    "OddEven_OddEven()"
   ]
  },
  {
   "cell_type": "code",
   "execution_count": null,
   "metadata": {},
   "outputs": [],
   "source": [
    "# Create a function that tells elegibility of marriage for male and female according to thei\n",
    "#r age limit like 21 for male and 18 for female"
   ]
  },
  {
   "cell_type": "code",
   "execution_count": null,
   "metadata": {},
   "outputs": [],
   "source": [
    "def ElegiblityForMarriage_Elegible():\n",
    "    gender = input('Your Gender :') \n",
    "    age = int(input('Your Age : '))\n",
    "\n",
    "    if(gender == 'male','M'):\n",
    "            if(age > 21):\n",
    "                print('Eligble')\n",
    "            else: \n",
    "                print('Not a eligible')\n",
    "    elif(gender == 'female','f'):\n",
    "        if(age > 18):\n",
    "            print('Eligble')\n",
    "        else: \n",
    "            print('Not eligible')"
   ]
  },
  {
   "cell_type": "code",
   "execution_count": null,
   "metadata": {},
   "outputs": [],
   "source": [
    "ElegiblityForMarriage_Elegible()"
   ]
  },
  {
   "cell_type": "code",
   "execution_count": null,
   "metadata": {},
   "outputs": [],
   "source": [
    "# calculate the percentage of your 10th mark"
   ]
  },
  {
   "cell_type": "code",
   "execution_count": 2,
   "metadata": {},
   "outputs": [],
   "source": [
    "def FindPercent_percentage():\n",
    "\n",
    "    sub1 = int(input('Subject1 : '))\n",
    "    sub2 = int(input('Subject2 : '))\n",
    "    sub3 = int(input('Subject3 : '))\n",
    "    sub4 = int(input('Subject4 : '))\n",
    "    sub5 = int(input('Subject5 : '))\n",
    "\n",
    "    total = sub1+sub2+sub3+sub4+sub5\n",
    "    per = total *(100/500)\n",
    "\n",
    "    print('Total: ',total)\n",
    "    print('Percentage :',per)\n"
   ]
  },
  {
   "cell_type": "code",
   "execution_count": 3,
   "metadata": {},
   "outputs": [
    {
     "name": "stdout",
     "output_type": "stream",
     "text": [
      "Subject1 : 90\n",
      "Subject2 : 90\n",
      "Subject3 : 90\n",
      "Subject4 : 90\n",
      "Subject5 : 90\n",
      "Total:  450\n",
      "Percentage : 90.0\n"
     ]
    }
   ],
   "source": [
    "FindPercent_percentage()"
   ]
  },
  {
   "cell_type": "code",
   "execution_count": null,
   "metadata": {},
   "outputs": [],
   "source": [
    "#print area and perimeter of triangle using class and functions"
   ]
  },
  {
   "cell_type": "code",
   "execution_count": 4,
   "metadata": {},
   "outputs": [],
   "source": [
    "def triangle_triangle():\n",
    "\n",
    "    Height = int(input('Height : '))\n",
    "    Breadth = int(input('Breadth : '))\n",
    "\n",
    "    area = (Height*Breadth)/2\n",
    "    print('Area formula: (Height*Breadth)/2')\n",
    "    print('Area of the Triangle : ', area)\n",
    "\n",
    "    Height1 = int(input('Height1 : '))\n",
    "    Height2 = int(input('Height2 : '))\n",
    "    Breadth = int(input('Breadth : '))\n",
    "\n",
    "    peri = Height1+Height2+Breadth\n",
    "    print('Perimeter formula: Height1+Height2+Breadth')\n",
    "    print('Perimeter of Triangle : ', peri)\n",
    "\n"
   ]
  },
  {
   "cell_type": "code",
   "execution_count": 5,
   "metadata": {},
   "outputs": [
    {
     "name": "stdout",
     "output_type": "stream",
     "text": [
      "Height : 34\n",
      "Breadth : 32\n",
      "Area formula: (Height*Breadth)/2\n",
      "Area of the Triangle :  544.0\n",
      "Height1 : 45\n",
      "Height2 : 34\n",
      "Breadth : 34\n",
      "Perimeter formula: Height1+Height2+Breadth\n",
      "Perimeter of Triangle :  113\n"
     ]
    }
   ],
   "source": [
    "triangle_triangle()"
   ]
  },
  {
   "cell_type": "code",
   "execution_count": null,
   "metadata": {},
   "outputs": [],
   "source": []
  }
 ],
 "metadata": {
  "kernelspec": {
   "display_name": "Python 3",
   "language": "python",
   "name": "python3"
  }
 },
 "nbformat": 4,
 "nbformat_minor": 2
}
