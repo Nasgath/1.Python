{
 "cells": [
  {
   "cell_type": "code",
   "execution_count": 1,
   "metadata": {},
   "outputs": [
    {
     "name": "stdout",
     "output_type": "stream",
     "text": [
      "value: 10\n",
      "CORRECT\n"
     ]
    }
   ],
   "source": [
    "i = 10\n",
    "if (i==10):\n",
    "    print('value:' ,i)\n",
    "    print('CORRECT')"
   ]
  },
  {
   "cell_type": "code",
   "execution_count": 3,
   "metadata": {},
   "outputs": [
    {
     "name": "stdout",
     "output_type": "stream",
     "text": [
      "Enter the password : HOPE@123\n",
      "Your password is correct\n"
     ]
    }
   ],
   "source": [
    "n = input('Enter the password : ')\n",
    "\n",
    "if(n == 'HOPE@123'):\n",
    "    print('Your password is correct')\n",
    "else:\n",
    "    print('Your password is incorrect')\n",
    "    \n",
    "\n",
    "    "
   ]
  },
  {
   "cell_type": "code",
   "execution_count": 35,
   "metadata": {},
   "outputs": [
    {
     "name": "stdout",
     "output_type": "stream",
     "text": [
      "age: 20\n",
      "Adult\n"
     ]
    }
   ],
   "source": [
    "age = int(input('age: '))\n",
    "\n",
    "if(age<18):\n",
    "    print('Children')\n",
    "elif(age<35):\n",
    "    print('Adult')\n",
    "elif(age<59):\n",
    "    print('citizen')\n",
    "else:\n",
    "    print('Senoir Citizen')"
   ]
  },
  {
   "cell_type": "code",
   "execution_count": 40,
   "metadata": {},
   "outputs": [
    {
     "name": "stdout",
     "output_type": "stream",
     "text": [
      "Ener any number : 1\n",
      "Number is positive\n"
     ]
    }
   ],
   "source": [
    "n= int(input('Ener any number : '))\n",
    "\n",
    "if(n > 0):\n",
    "    print('Number is positive')\n",
    "else:\n",
    "    print('Number is negative')"
   ]
  },
  {
   "cell_type": "code",
   "execution_count": 8,
   "metadata": {},
   "outputs": [
    {
     "name": "stdout",
     "output_type": "stream",
     "text": [
      "Enter the number to check : 3\n",
      "No is not divivsible by 5 \n"
     ]
    }
   ],
   "source": [
    "num = int(input('Enter the number to check : '))\n",
    "if((num%5)==0):\n",
    "    print('Yes it is didvisible by 5')\n",
    "else:\n",
    "    print('No is not divivsible by 5 ')"
   ]
  },
  {
   "cell_type": "code",
   "execution_count": null,
   "metadata": {},
   "outputs": [],
   "source": []
  }
 ],
 "metadata": {
  "kernelspec": {
   "display_name": "Python 3",
   "language": "python",
   "name": "python3"
  },
  "language_info": {
   "codemirror_mode": {
    "name": "ipython",
    "version": 3
   },
   "file_extension": ".py",
   "mimetype": "text/x-python",
   "name": "python",
   "nbconvert_exporter": "python",
   "pygments_lexer": "ipython3",
   "version": "3.7.4"
  }
 },
 "nbformat": 4,
 "nbformat_minor": 2
}
