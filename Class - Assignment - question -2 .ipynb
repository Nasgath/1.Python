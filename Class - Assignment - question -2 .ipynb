{
 "cells": [
  {
   "cell_type": "code",
   "execution_count": 1,
   "metadata": {},
   "outputs": [],
   "source": [
    "from ClassAssignment import classassignments\n",
    "\n"
   ]
  },
  {
   "cell_type": "code",
   "execution_count": 2,
   "metadata": {},
   "outputs": [
    {
     "name": "stdout",
     "output_type": "stream",
     "text": [
      "Height : 4\n",
      "Breadth : 5\n",
      "Area formula: (Height*Breadth)/2\n",
      "Area of the Triangle :  10.0\n",
      "Height1 : 34\n",
      "Height2 : 34\n",
      "Breadth : 34\n",
      "Perimeter formula: Height1+Height2+Breadth\n",
      "Perimeter of Triangle :  102\n"
     ]
    }
   ],
   "source": [
    "classassignments.triangle()"
   ]
  },
  {
   "cell_type": "code",
   "execution_count": 3,
   "metadata": {},
   "outputs": [
    {
     "name": "stdout",
     "output_type": "stream",
     "text": [
      "Sub-fields in AI are: \n",
      "Machine Learning\n",
      "Neural Networks\n",
      "Vision\n",
      "Robotics\n",
      "Speech Processing\n",
      "Natural Language Processing\n"
     ]
    }
   ],
   "source": [
    "classassignments.Subfields()"
   ]
  },
  {
   "cell_type": "code",
   "execution_count": 4,
   "metadata": {},
   "outputs": [
    {
     "name": "stdout",
     "output_type": "stream",
     "text": [
      "Enter the number :4\n",
      "4 is even number\n"
     ]
    }
   ],
   "source": [
    "classassignments.OddEven()"
   ]
  },
  {
   "cell_type": "code",
   "execution_count": 5,
   "metadata": {},
   "outputs": [
    {
     "name": "stdout",
     "output_type": "stream",
     "text": [
      "Your Gender :m\n",
      "Your Age : 34\n",
      "Eligble\n"
     ]
    }
   ],
   "source": [
    "classassignments.Elegible()"
   ]
  },
  {
   "cell_type": "code",
   "execution_count": 6,
   "metadata": {},
   "outputs": [
    {
     "name": "stdout",
     "output_type": "stream",
     "text": [
      "Subject1 : 34\n",
      "Subject2 : 34\n",
      "Subject3 : 5\n",
      "Subject4 : 3\n",
      "Subject5 : 2\n",
      "Total:  78\n",
      "Percentage : 15.600000000000001\n"
     ]
    }
   ],
   "source": [
    "classassignments.percentage()"
   ]
  },
  {
   "cell_type": "code",
   "execution_count": 7,
   "metadata": {},
   "outputs": [
    {
     "name": "stdout",
     "output_type": "stream",
     "text": [
      "Height : 6\n",
      "Breadth : 45\n",
      "Area formula: (Height*Breadth)/2\n",
      "Area of the Triangle :  135.0\n",
      "Height1 : 34\n",
      "Height2 : 56\n",
      "Breadth : 90\n",
      "Perimeter formula: Height1+Height2+Breadth\n",
      "Perimeter of Triangle :  180\n"
     ]
    }
   ],
   "source": [
    "classassignments.triangle()"
   ]
  },
  {
   "cell_type": "code",
   "execution_count": null,
   "metadata": {},
   "outputs": [],
   "source": []
  }
 ],
 "metadata": {
  "kernelspec": {
   "display_name": "Python 3",
   "language": "python",
   "name": "python3"
  },
  "language_info": {
   "codemirror_mode": {
    "name": "ipython",
    "version": 3
   },
   "file_extension": ".py",
   "mimetype": "text/x-python",
   "name": "python",
   "nbconvert_exporter": "python",
   "pygments_lexer": "ipython3",
   "version": "3.7.4"
  }
 },
 "nbformat": 4,
 "nbformat_minor": 2
}
